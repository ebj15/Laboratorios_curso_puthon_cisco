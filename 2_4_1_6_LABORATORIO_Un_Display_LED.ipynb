{
  "cells": [
    {
      "cell_type": "markdown",
      "metadata": {
        "id": "view-in-github",
        "colab_type": "text"
      },
      "source": [
        "<a href=\"https://colab.research.google.com/github/ebj15/Laboratorios_curso_python_cisco/blob/main/2_4_1_6_LABORATORIO_Un_Display_LED.ipynb\" target=\"_parent\"><img src=\"https://colab.research.google.com/assets/colab-badge.svg\" alt=\"Open In Colab\"/></a>"
      ]
    },
    {
      "cell_type": "code",
      "execution_count": 126,
      "metadata": {
        "colab": {
          "base_uri": "https://localhost:8080/"
        },
        "id": "ue9etby7Wr2e",
        "outputId": "018418bb-2cfb-4588-8709-38473f92d789"
      },
      "outputs": [
        {
          "output_type": "stream",
          "name": "stdout",
          "text": [
            "Ingrese un numero mayor o igual que cero:  10\n",
            "[1, 0]\n",
            "\n",
            "  # ### \n",
            "  # # # \n",
            "  # # # \n",
            "  # # # \n",
            "  # ### "
          ]
        }
      ],
      "source": [
        "\"\"\"Display siete segmentos\n",
        "El progrmaa recibe por pantalla un numero positivo y lo imprime en pantalla\n",
        "con signos de numeral en formato display siete segmentos\n",
        "\"\"\"\n",
        "#________________-------Ingreso datos usuari --------_______________\n",
        "\n",
        "numero = int(input(\"Ingrese un numero mayor o igual que cero:  \"))\n",
        "\n",
        "matriz=[[\"###\",\"# #\",\"# #\",\"# #\",\"###\"],\n",
        "        [\"  #\",\"  #\",\"  #\",\"  #\",\"  #\"],\n",
        "        [\"###\",\"  #\",\"###\",\"#  \",\"###\"],\n",
        "        [\"###\",\"  #\",\"###\",\"  #\",\"###\"],\n",
        "        [\"# #\",\"# #\",\"###\",\"  #\",\"  #\"],\n",
        "        [\"###\",\"#  \",\"###\",\"  #\",\"###\"],\n",
        "        [\"###\",\"#  \",\"###\",\"# #\",\"###\"],\n",
        "        [\"###\",\"  #\",\"  #\",\"  #\",\"  #\"],\n",
        "        [\"###\",\"# #\",\"###\",\"# #\",\"###\"],\n",
        "        [\"###\",\"# #\",\"###\",\"  #\",\"###\"],]\n",
        "List = []\n",
        "\n",
        "\n",
        "if numero ==0:\n",
        "  List =[0]\n",
        "#___________________________________________________\n",
        "def separadigitos(n):\n",
        "  while n !=0:\n",
        "      Dig = n%10\n",
        "      List.insert(0,Dig)\n",
        "      n //=10\n",
        "#_______________________________________________________\n",
        "separadigitos(numero)\n",
        "print(List)\n",
        "for n in range(5):\n",
        "  print()\n",
        "  for i in range(len(List)):\n",
        "    print(matriz[List[i]][n],end=\" \")\n",
        "\n",
        "\n",
        "\n",
        "\n",
        "\n",
        "\n",
        "\n",
        "\n",
        "\n",
        "\n",
        "\n"
      ]
    },
    {
      "cell_type": "code",
      "source": [],
      "metadata": {
        "id": "bbbukehCZFUB"
      },
      "execution_count": null,
      "outputs": []
    }
  ],
  "metadata": {
    "colab": {
      "provenance": [],
      "authorship_tag": "ABX9TyOFZ05mUNyTQEozOYC1ZY7o",
      "include_colab_link": true
    },
    "kernelspec": {
      "display_name": "Python 3",
      "name": "python3"
    },
    "language_info": {
      "name": "python"
    }
  },
  "nbformat": 4,
  "nbformat_minor": 0
}